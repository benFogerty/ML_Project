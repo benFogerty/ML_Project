{
 "cells": [
  {
   "cell_type": "code",
   "execution_count": 90,
   "id": "765ae93a",
   "metadata": {},
   "outputs": [],
   "source": [
    "import numpy as np\n",
    "from sklearn.neighbors import NearestNeighbors\n",
    "import pandas as pd\n",
    "import numpy as np\n",
    "import matplotlib.pyplot as plt\n",
    "import seaborn as sns"
   ]
  },
  {
   "cell_type": "code",
   "execution_count": 110,
   "id": "50c01c19",
   "metadata": {},
   "outputs": [
    {
     "name": "stdout",
     "output_type": "stream",
     "text": [
      "<class 'pandas.core.frame.DataFrame'>\n",
      "RangeIndex: 344 entries, 0 to 343\n",
      "Data columns (total 14 columns):\n",
      " #   Column                                             Non-Null Count  Dtype  \n",
      "---  ------                                             --------------  -----  \n",
      " 0   residence                                          344 non-null    object \n",
      " 1   program                                            344 non-null    object \n",
      " 2   rating                                             344 non-null    float64\n",
      " 3   residence_Claudette Millar Hall (CMH)              344 non-null    int64  \n",
      " 4   residence_Columbia Lake Village South (CLV-South)  344 non-null    int64  \n",
      " 5   residence_Mackenzie King Village (MKV)             344 non-null    int64  \n",
      " 6   residence_Ron Eydt Village (REV)                   344 non-null    int64  \n",
      " 7   residence_UW Place (UWP)                           344 non-null    int64  \n",
      " 8   residence_Village 1                                344 non-null    int64  \n",
      " 9   extraversion                                       344 non-null    float64\n",
      " 10  agreeableness                                      344 non-null    float64\n",
      " 11  conscientiousness                                  344 non-null    float64\n",
      " 12  emotionalStability                                 344 non-null    float64\n",
      " 13  Openness                                           344 non-null    float64\n",
      "dtypes: float64(6), int64(6), object(2)\n",
      "memory usage: 37.8+ KB\n"
     ]
    }
   ],
   "source": [
    "data = pd.read_csv('parsedSurveyData.csv')\n",
    "data.info()"
   ]
  },
  {
   "cell_type": "code",
   "execution_count": 111,
   "id": "6fd3e5d0",
   "metadata": {},
   "outputs": [
    {
     "name": "stdout",
     "output_type": "stream",
     "text": [
      "[0.9510940462778172, 2.6570473444764513, 9.930515595469798, 3.8270115485005514, 3.9846594972068945]\n",
      "[0.7284450304399769, 1.1240223583641613, 2.629102714757997, 1.4896008355665564, 1.590814348997942]\n"
     ]
    },
    {
     "name": "stderr",
     "output_type": "stream",
     "text": [
      "/var/folders/gc/2hjqw94d0fg3h32mgnj49r7m0000gn/T/ipykernel_44451/1872548682.py:25: SettingWithCopyWarning: \n",
      "A value is trying to be set on a copy of a slice from a DataFrame.\n",
      "Try using .loc[row_indexer,col_indexer] = value instead\n",
      "\n",
      "See the caveats in the documentation: https://pandas.pydata.org/pandas-docs/stable/user_guide/indexing.html#returning-a-view-versus-a-copy\n",
      "  X['program'] = le.fit_transform(X['program'].values)\n",
      "/var/folders/gc/2hjqw94d0fg3h32mgnj49r7m0000gn/T/ipykernel_44451/1872548682.py:25: SettingWithCopyWarning: \n",
      "A value is trying to be set on a copy of a slice from a DataFrame.\n",
      "Try using .loc[row_indexer,col_indexer] = value instead\n",
      "\n",
      "See the caveats in the documentation: https://pandas.pydata.org/pandas-docs/stable/user_guide/indexing.html#returning-a-view-versus-a-copy\n",
      "  X['program'] = le.fit_transform(X['program'].values)\n",
      "/var/folders/gc/2hjqw94d0fg3h32mgnj49r7m0000gn/T/ipykernel_44451/1872548682.py:25: SettingWithCopyWarning: \n",
      "A value is trying to be set on a copy of a slice from a DataFrame.\n",
      "Try using .loc[row_indexer,col_indexer] = value instead\n",
      "\n",
      "See the caveats in the documentation: https://pandas.pydata.org/pandas-docs/stable/user_guide/indexing.html#returning-a-view-versus-a-copy\n",
      "  X['program'] = le.fit_transform(X['program'].values)\n",
      "/var/folders/gc/2hjqw94d0fg3h32mgnj49r7m0000gn/T/ipykernel_44451/1872548682.py:25: SettingWithCopyWarning: \n",
      "A value is trying to be set on a copy of a slice from a DataFrame.\n",
      "Try using .loc[row_indexer,col_indexer] = value instead\n",
      "\n",
      "See the caveats in the documentation: https://pandas.pydata.org/pandas-docs/stable/user_guide/indexing.html#returning-a-view-versus-a-copy\n",
      "  X['program'] = le.fit_transform(X['program'].values)\n",
      "/var/folders/gc/2hjqw94d0fg3h32mgnj49r7m0000gn/T/ipykernel_44451/1872548682.py:25: SettingWithCopyWarning: \n",
      "A value is trying to be set on a copy of a slice from a DataFrame.\n",
      "Try using .loc[row_indexer,col_indexer] = value instead\n",
      "\n",
      "See the caveats in the documentation: https://pandas.pydata.org/pandas-docs/stable/user_guide/indexing.html#returning-a-view-versus-a-copy\n",
      "  X['program'] = le.fit_transform(X['program'].values)\n"
     ]
    },
    {
     "data": {
      "image/png": "[encoded data removed]",
      "text/plain": [
       "<Figure size 640x480 with 1 Axes>"
      ]
     },
     "metadata": {},
     "output_type": "display_data"
    }
   ],
   "source": [
    "#Get all rows with specific residence\n",
    "from sklearn.preprocessing import MinMaxScaler\n",
    "from sklearn.model_selection import train_test_split\n",
    "from sklearn.linear_model import LinearRegression\n",
    "from sklearn.metrics import mean_squared_error\n",
    "from sklearn import metrics\n",
    "from sklearn.preprocessing import LabelEncoder\n",
    "\n",
    "residence_list = ['residence_Claudette Millar Hall (CMH)', \n",
    "                  'residence_Mackenzie King Village (MKV)',\n",
    "                  'residence_Ron Eydt Village (REV)', \n",
    "                  'residence_UW Place (UWP)', \n",
    "                  'residence_Village 1']\n",
    "\n",
    "MSE_list = []\n",
    "MAE_list = []\n",
    "\n",
    "for residence in residence_list:\n",
    "    residence_data = data[data[residence] == 1]\n",
    "    X = residence_data[['program', 'extraversion', 'agreeableness', 'conscientiousness', 'emotionalStability', 'Openness']]\n",
    "    y = residence_data['rating']\n",
    "    \n",
    "    # label encode program to values\n",
    "    le = LabelEncoder() \n",
    "    X['program'] = le.fit_transform(X['program'].values) \n",
    "    X.head()\n",
    "    \n",
    "    #Fit Model\n",
    "    X_train, X_test, y_train, y_test = train_test_split(X, y, test_size=0.2, random_state=42)\n",
    "\n",
    "    model = LinearRegression()\n",
    "\n",
    "    # Fit the model on the training data\n",
    "    model.fit(X_train, y_train)\n",
    "    \n",
    "    # Evaluate the model\n",
    "    y_pred = model.predict(X_test)\n",
    "    \n",
    "    plt.scatter(y_test, y_pred)\n",
    "    plt.xlim([0,12])\n",
    "    plt.ylim([0,12])\n",
    "    plt.xlabel('Actual values')\n",
    "    plt.ylabel('Predicted Values')\n",
    "    plt.title('Scatter Plot')\n",
    "    \n",
    "    MAE_list.append(metrics.mean_absolute_error(y_test, y_pred))\n",
    "    MSE_list.append(metrics.mean_squared_error(y_test, y_pred))\n",
    "print(MSE_list)\n",
    "print(MAE_list)"
   ]
  },
  {
   "cell_type": "code",
   "execution_count": null,
   "id": "32bb0874",
   "metadata": {},
   "outputs": [],
   "source": [
    "user_data = \n",
    "\n",
    "def predict_user(user_data):\n",
    "    "
   ]
  },
  {
   "cell_type": "code",
   "execution_count": null,
   "id": "fe93f7fd",
   "metadata": {},
   "outputs": [],
   "source": []
  }
 ],
 "metadata": {
  "kernelspec": {
   "display_name": "Python 3 (ipykernel)",
   "language": "python",
   "name": "python3"
  },
  "language_info": {
   "codemirror_mode": {
    "name": "ipython",
    "version": 3
   },
   "file_extension": ".py",
   "mimetype": "text/x-python",
   "name": "python",
   "nbconvert_exporter": "python",
   "pygments_lexer": "ipython3",
   "version": "3.11.5"
  }
 },
 "nbformat": 4,
 "nbformat_minor": 5
}
