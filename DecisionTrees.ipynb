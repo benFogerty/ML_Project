{
 "cells": [
  {
   "cell_type": "code",
   "execution_count": 18,
   "metadata": {},
   "outputs": [
    {
     "name": "stdout",
     "output_type": "stream",
     "text": [
      "       program               residence  rating  \\\n",
      "0  Engineering          UW Place (UWP)     7.0   \n",
      "1  Engineering  Ron Eydt Village (REV)    10.0   \n",
      "2  Engineering  Ron Eydt Village (REV)    10.0   \n",
      "3  Engineering  Ron Eydt Village (REV)     6.0   \n",
      "4  Engineering               Village 1     6.0   \n",
      "\n",
      "   residence_Claudette Millar Hall (CMH)  \\\n",
      "0                                      0   \n",
      "1                                      0   \n",
      "2                                      0   \n",
      "3                                      0   \n",
      "4                                      0   \n",
      "\n",
      "   residence_Columbia Lake Village South (CLV-South)  \\\n",
      "0                                                  0   \n",
      "1                                                  0   \n",
      "2                                                  0   \n",
      "3                                                  0   \n",
      "4                                                  0   \n",
      "\n",
      "   residence_Mackenzie King Village (MKV)  residence_Ron Eydt Village (REV)  \\\n",
      "0                                       0                                 0   \n",
      "1                                       0                                 1   \n",
      "2                                       0                                 1   \n",
      "3                                       0                                 1   \n",
      "4                                       0                                 0   \n",
      "\n",
      "   residence_UW Place (UWP)  residence_Village 1  program_AFM  ...  \\\n",
      "0                         1                    0            0  ...   \n",
      "1                         0                    0            0  ...   \n",
      "2                         0                    0            0  ...   \n",
      "3                         0                    0            0  ...   \n",
      "4                         0                    1            0  ...   \n",
      "\n",
      "   program_Engineering  program_Environment  program_Health  \\\n",
      "0                    1                    0               0   \n",
      "1                    1                    0               0   \n",
      "2                    1                    0               0   \n",
      "3                    1                    0               0   \n",
      "4                    1                    0               0   \n",
      "\n",
      "   program_Mathematics  program_Science  extraversion  agreeableness  \\\n",
      "0                    0                0           5.5            4.0   \n",
      "1                    0                0           7.0            4.0   \n",
      "2                    0                0           4.5            5.0   \n",
      "3                    0                0           4.0            5.5   \n",
      "4                    0                0           5.0            5.0   \n",
      "\n",
      "   conscientiousness  emotionalStability  Openness  \n",
      "0                6.0                 4.0       5.5  \n",
      "1                6.0                 3.5       5.5  \n",
      "2                6.0                 6.0       5.0  \n",
      "3                3.5                 5.5       3.5  \n",
      "4                1.5                 4.0       6.5  \n",
      "\n",
      "[5 rows x 21 columns]\n"
     ]
    }
   ],
   "source": [
    "import pandas as pd\n",
    "from sklearn.preprocessing import LabelEncoder\n",
    "\n",
    "# Load the data\n",
    "data = pd.read_csv('parsedSurveyData.csv')\n",
    "print(data.head())"
   ]
  },
  {
   "cell_type": "code",
   "execution_count": 19,
   "metadata": {},
   "outputs": [],
   "source": [
    "# Preprocess the data\n",
    "# Encode categorical variables\n",
    "le_program = LabelEncoder()\n",
    "data['program_encoded'] = le_program.fit_transform(data['program'])\n",
    "\n",
    "personality_traits = ['extraversion', 'agreeableness', 'conscientiousness', 'emotionalStability', 'Openness', 'program_AFM', 'program_Arts', 'program_Engineering', 'program_Environment', 'program_Health', 'program_Mathematics', 'program_Science']\n",
    "data[personality_traits] = data[personality_traits].astype(float)\n",
    "\n",
    "data[personality_traits] = data[personality_traits].fillna(data[personality_traits].mean())\n",
    "\n",
    "le_residency = LabelEncoder()\n",
    "data['Residency_encoded'] = le_residency.fit_transform(data['rating'])\n",
    "\n",
    "X = data[personality_traits]\n",
    "Y = data['Residency_encoded']"
   ]
  },
  {
   "cell_type": "code",
   "execution_count": 20,
   "metadata": {},
   "outputs": [],
   "source": [
    "from sklearn.model_selection import train_test_split\n",
    "\n",
    "# Split the Data into Training and Testing Sets\n",
    "X_train, X_test, Y_train, Y_test = train_test_split(X, Y, test_size=0.3, random_state=42)\n"
   ]
  },
  {
   "cell_type": "code",
   "execution_count": 21,
   "metadata": {},
   "outputs": [],
   "source": [
    "from sklearn.tree import DecisionTreeClassifier\n",
    "\n",
    "# Create and Train the Decision Tree Model\n",
    "dt_classifier = DecisionTreeClassifier(random_state=42)\n",
    "dt_classifier.fit(X_train, Y_train)\n",
    "\n",
    "Y_pred = dt_classifier.predict(X_test)"
   ]
  },
  {
   "cell_type": "code",
   "execution_count": 26,
   "metadata": {},
   "outputs": [
    {
     "name": "stdout",
     "output_type": "stream",
     "text": [
      "Scores for residence_Claudette Millar Hall (CMH):\n",
      "\tAccuracy: 0.9230769230769231\n",
      "\tPrecision: 0.5\n",
      "\tRecall: 0.5\n",
      "\tF1 Score: 0.5\n",
      "Scores for residence_Mackenzie King Village (MKV):\n",
      "\tAccuracy: 0.8846153846153846\n",
      "\tPrecision: 0.5833333333333334\n",
      "\tRecall: 0.5\n",
      "\tF1 Score: 0.5384615384615384\n",
      "Scores for residence_Ron Eydt Village (REV):\n",
      "\tAccuracy: 0.8173076923076923\n",
      "\tPrecision: 0.3125\n",
      "\tRecall: 0.38461538461538464\n",
      "\tF1 Score: 0.3448275862068966\n",
      "Scores for residence_UW Place (UWP):\n",
      "\tAccuracy: 0.875\n",
      "\tPrecision: 0.1111111111111111\n",
      "\tRecall: 0.16666666666666666\n",
      "\tF1 Score: 0.13333333333333333\n",
      "Scores for residence_Village 1:\n",
      "\tAccuracy: 0.9711538461538461\n",
      "\tPrecision: 0.5\n",
      "\tRecall: 0.6666666666666666\n",
      "\tF1 Score: 0.5714285714285714\n"
     ]
    }
   ],
   "source": [
    "from sklearn.metrics import accuracy_score, precision_score, recall_score, f1_score, r2_score\n",
    "from sklearn.preprocessing import label_binarize\n",
    "import numpy as np\n",
    "\n",
    "# Binarize the output labels\n",
    "Y_test_binarized = label_binarize(Y_test, classes=np.unique(Y_test))\n",
    "Y_pred_binarized = label_binarize(Y_pred, classes=np.unique(Y_pred))\n",
    "\n",
    "residence_names = ['residence_Claudette Millar Hall (CMH)', \n",
    "                  'residence_Mackenzie King Village (MKV)',\n",
    "                  'residence_Ron Eydt Village (REV)', \n",
    "                  'residence_UW Place (UWP)', \n",
    "                  'residence_Village 1']\n",
    "\n",
    "for i, residence_name in enumerate(residence_names):\n",
    "    print(f\"Scores for {residence_name}:\")\n",
    "    print(\"\\tAccuracy:\", accuracy_score(Y_test_binarized[:, i], Y_pred_binarized[:, i]))\n",
    "    print(\"\\tPrecision:\", precision_score(Y_test_binarized[:, i], Y_pred_binarized[:, i], zero_division=0))\n",
    "    print(\"\\tRecall:\", recall_score(Y_test_binarized[:, i], Y_pred_binarized[:, i], zero_division=0))\n",
    "    print(\"\\tF1 Score:\", f1_score(Y_test_binarized[:, i], Y_pred_binarized[:, i], zero_division=0))\n"
   ]
  }
 ],
 "metadata": {
  "kernelspec": {
   "display_name": "Python 3",
   "language": "python",
   "name": "python3"
  },
  "language_info": {
   "codemirror_mode": {
    "name": "ipython",
    "version": 3
   },
   "file_extension": ".py",
   "mimetype": "text/x-python",
   "name": "python",
   "nbconvert_exporter": "python",
   "pygments_lexer": "ipython3",
   "version": "3.10.13"
  }
 },
 "nbformat": 4,
 "nbformat_minor": 2
}
